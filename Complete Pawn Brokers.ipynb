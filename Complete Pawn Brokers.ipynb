{
 "cells": [
  {
   "cell_type": "markdown",
   "metadata": {},
   "source": [
    "# Any Doubts Call Me!!"
   ]
  },
  {
   "cell_type": "markdown",
   "metadata": {},
   "source": [
    "# Store all data into MongoDB"
   ]
  },
  {
   "cell_type": "code",
   "execution_count": 8,
   "metadata": {
    "scrolled": false
   },
   "outputs": [],
   "source": [
    "import pymongo\n",
    "import json\n",
    "\n",
    "myclient = pymongo.MongoClient(\"mongodb://localhost:27017/\")\n",
    "mydb = myclient[\"Shop\"]\n",
    "mycol = mydb[\"Pawn\"]\n",
    "\n",
    "with open(r'E:\\Freelance\\Manoj\\Data\\data.json') as f: #Enter your data.json file path\n",
    "    data = json.load(f)\n",
    "len(data[\"main\"])\n",
    "for each in data[\"main\"]:\n",
    "    mycol.insert_one(each)"
   ]
  },
  {
   "cell_type": "markdown",
   "metadata": {},
   "source": [
    "# Connect to MongoDB"
   ]
  },
  {
   "cell_type": "code",
   "execution_count": 2,
   "metadata": {},
   "outputs": [],
   "source": [
    "import pymongo\n",
    "\n",
    "myclient = pymongo.MongoClient(\"mongodb://localhost:27017/\")\n",
    "mydb = myclient[\"Shop\"]\n",
    "mycol = mydb[\"Pawn\"]"
   ]
  },
  {
   "cell_type": "markdown",
   "metadata": {},
   "source": [
    "# Add Details to Database"
   ]
  },
  {
   "cell_type": "code",
   "execution_count": 11,
   "metadata": {
    "scrolled": false
   },
   "outputs": [
    {
     "name": "stdout",
     "output_type": "stream",
     "text": [
      "Number : AAKK 638\n",
      "Amount : 5000\n",
      "Name : Vasanthi\n",
      "S/O W/O D/O : Mani\n",
      "Location : Tiruvallue\n",
      "Place : Kakalur\n",
      "Item type : G\n",
      "Item : Rign\n",
      "Pledged Date : 15.08.2020\n",
      "Weight : 19\n"
     ]
    },
    {
     "data": {
      "text/plain": [
       "<pymongo.results.InsertOneResult at 0x94d7d0e4c8>"
      ]
     },
     "execution_count": 11,
     "metadata": {},
     "output_type": "execute_result"
    }
   ],
   "source": [
    "Number = str(input(\"Number : \"))\n",
    "Amount = int(input(\"Amount : \"))\n",
    "Name = str(input(\"Name : \"))\n",
    "Relation = str(input(\"S/O W/O D/O : \"))\n",
    "Location = str(input(\"Location : \"))\n",
    "Place = str(input(\"Place : \"))\n",
    "Item_type = str(input(\"Item type : \"))\n",
    "Item = str(input(\"Item : \"))\n",
    "Pledged = str(input(\"Pledged Date : \"))\n",
    "Weight = int(input(\"Weight : \"))\n",
    "\n",
    "mydict={\n",
    "    \"Number\" :Number ,\n",
    "    \"Amount\" :Amount,\n",
    "    \"Name\" :Name,\n",
    "    \"S/O W/O D/O\" : Relation ,\n",
    "    \"Location\" : Location ,\n",
    "    \"Place\" :Place ,\n",
    "    \"Item\" : Item,\n",
    "    \"Pledged Date\" :Pledged,\n",
    "    \"Weight\" : Weight\n",
    "}\n",
    "\n",
    "mycol.insert_one(mydict)"
   ]
  },
  {
   "cell_type": "markdown",
   "metadata": {},
   "source": [
    "## Fetch Stored data"
   ]
  },
  {
   "cell_type": "code",
   "execution_count": null,
   "metadata": {
    "scrolled": true
   },
   "outputs": [],
   "source": [
    "Name = str(input(\"Enter name to filter : \")).title()\n",
    "# def fetch(name, number):\n",
    "if Name == \"\":\n",
    "    Number = str(input(number))\n",
    "    c = mycol.find({\"Number\": Number})\n",
    "    for d in c:\n",
    "        print(d)\n",
    "else:\n",
    "    a = mycol.find({\"Name\": Name})\n",
    "    for b in a:\n",
    "        print(b)"
   ]
  },
  {
   "cell_type": "markdown",
   "metadata": {},
   "source": [
    "## Total Interset till current date by the name of person all surrender jewel"
   ]
  },
  {
   "cell_type": "code",
   "execution_count": 15,
   "metadata": {},
   "outputs": [],
   "source": [
    "#The interest is calculated by 2% for each month of 30days"
   ]
  },
  {
   "cell_type": "code",
   "execution_count": 10,
   "metadata": {},
   "outputs": [
    {
     "name": "stdout",
     "output_type": "stream",
     "text": [
      "Enter Name : haridass\n",
      "₹ 1900 -- ₹ 2093 -- S -- 86\n",
      "₹ 900 -- ₹ 1441 -- G -- 0.6\n",
      "₹ 5000 -- ₹ 5183 -- S -- 210\n",
      "₹ 1500 -- ₹ 2332 -- G -- 0.75\n"
     ]
    }
   ],
   "source": [
    "import datetime\n",
    "\n",
    "Name = input(\"Enter Name : \").title()\n",
    "a = mycol.find({\"Name\": Name})\n",
    "\n",
    "for i in a:\n",
    "    \n",
    "    rates=0\n",
    "    \n",
    "    if i['Item'] == \"G\":\n",
    "        rates=0.03\n",
    "    else:\n",
    "        rates=0.02\n",
    "    \n",
    "    date = i[\"Pledged Date\"]\n",
    "    amount = int(i[\"Amount\"])\n",
    "    interest=amount*rates\n",
    "    final = date.replace('.','')\n",
    "    date_str = final\n",
    "    format_str = '%d%m%y' # The format\n",
    "    datetime_obj = datetime.datetime.strptime(date_str, format_str).date()\n",
    "    # print(datetime_obj)\n",
    "    \n",
    "    curent=datetime.datetime.now().date()\n",
    "\n",
    "    surrendered = curent - datetime_obj\n",
    "\n",
    "    check= surrendered.days/30\n",
    "\n",
    "    print(\"₹\",i['Amount'], \"--\" ,\"₹\",int(check*interest), \"--\" , i['Item'], \"--\" , i['Weight'] )"
   ]
  },
  {
   "cell_type": "markdown",
   "metadata": {},
   "source": [
    "## OpenCV to capture image from webcam and store it into localstorage"
   ]
  },
  {
   "cell_type": "code",
   "execution_count": 3,
   "metadata": {},
   "outputs": [
    {
     "name": "stdout",
     "output_type": "stream",
     "text": [
      "False\n",
      "None\n"
     ]
    },
    {
     "ename": "error",
     "evalue": "OpenCV(4.4.0) C:\\Users\\appveyor\\AppData\\Local\\Temp\\1\\pip-req-build-4q0kz99f\\opencv\\modules\\highgui\\src\\window.cpp:376: error: (-215:Assertion failed) size.width>0 && size.height>0 in function 'cv::imshow'\n",
     "output_type": "error",
     "traceback": [
      "\u001b[1;31m---------------------------------------------------------------------------\u001b[0m",
      "\u001b[1;31merror\u001b[0m                                     Traceback (most recent call last)",
      "\u001b[1;32m<ipython-input-3-9feb0793837d>\u001b[0m in \u001b[0;36m<module>\u001b[1;34m\u001b[0m\n\u001b[0;32m      8\u001b[0m         \u001b[0mprint\u001b[0m\u001b[1;33m(\u001b[0m\u001b[0mcheck\u001b[0m\u001b[1;33m)\u001b[0m \u001b[1;31m#prints true as long as the webcam is running\u001b[0m\u001b[1;33m\u001b[0m\u001b[1;33m\u001b[0m\u001b[0m\n\u001b[0;32m      9\u001b[0m         \u001b[0mprint\u001b[0m\u001b[1;33m(\u001b[0m\u001b[0mframe\u001b[0m\u001b[1;33m)\u001b[0m \u001b[1;31m#prints matrix values of each framecd\u001b[0m\u001b[1;33m\u001b[0m\u001b[1;33m\u001b[0m\u001b[0m\n\u001b[1;32m---> 10\u001b[1;33m         \u001b[0mcv2\u001b[0m\u001b[1;33m.\u001b[0m\u001b[0mimshow\u001b[0m\u001b[1;33m(\u001b[0m\u001b[1;34m\"Capturing\"\u001b[0m\u001b[1;33m,\u001b[0m \u001b[0mframe\u001b[0m\u001b[1;33m)\u001b[0m\u001b[1;33m\u001b[0m\u001b[1;33m\u001b[0m\u001b[0m\n\u001b[0m\u001b[0;32m     11\u001b[0m         \u001b[0mkey\u001b[0m \u001b[1;33m=\u001b[0m \u001b[0mcv2\u001b[0m\u001b[1;33m.\u001b[0m\u001b[0mwaitKey\u001b[0m\u001b[1;33m(\u001b[0m\u001b[1;36m1\u001b[0m\u001b[1;33m)\u001b[0m\u001b[1;33m\u001b[0m\u001b[1;33m\u001b[0m\u001b[0m\n\u001b[0;32m     12\u001b[0m         \u001b[1;32mif\u001b[0m \u001b[0mkey\u001b[0m \u001b[1;33m==\u001b[0m \u001b[0mord\u001b[0m\u001b[1;33m(\u001b[0m\u001b[1;34m's'\u001b[0m\u001b[1;33m)\u001b[0m\u001b[1;33m:\u001b[0m\u001b[1;33m\u001b[0m\u001b[1;33m\u001b[0m\u001b[0m\n",
      "\u001b[1;31merror\u001b[0m: OpenCV(4.4.0) C:\\Users\\appveyor\\AppData\\Local\\Temp\\1\\pip-req-build-4q0kz99f\\opencv\\modules\\highgui\\src\\window.cpp:376: error: (-215:Assertion failed) size.width>0 && size.height>0 in function 'cv::imshow'\n"
     ]
    }
   ],
   "source": [
    "import cv2 \n",
    "\n",
    "key = cv2. waitKey(1)\n",
    "webcam = cv2.VideoCapture(0)\n",
    "while True:\n",
    "    try:\n",
    "        check, frame = webcam.read()\n",
    "        print(check) #prints true as long as the webcam is running\n",
    "        print(frame) #prints matrix values of each framecd \n",
    "        cv2.imshow(\"Capturing\", frame)\n",
    "        key = cv2.waitKey(1)\n",
    "        if key == ord('s'): \n",
    "            cv2.imwrite(filename='saved_img.jpg', img=frame)\n",
    "            webcam.release()\n",
    "            img_new = cv2.imread('person.jpg', cv2.IMREAD_GRAYSCALE)\n",
    "            img_new = cv2.imshow(\"Captured Image\", img_new)\n",
    "            cv2.waitKey(1650)\n",
    "            cv2.destroyAllWindows()\n",
    "#             print(\"Processing image...\")\n",
    "#             img_ = cv2.imread('saved_img.jpg', cv2.IMREAD_ANYCOLOR)\n",
    "#             print(\"Converting RGB image to grayscale...\")\n",
    "#             gray = cv2.cvtColor(img_, cv2.COLOR_BGR2GRAY)\n",
    "#             print(\"Converted RGB image to grayscale...\")\n",
    "#             print(\"Resizing image to 28x28 scale...\")\n",
    "#             img_ = cv2.resize(gray,(280,280))\n",
    "#             print(\"Resized...\")\n",
    "#             img_resized = cv2.imwrite(filename='Person1.jpg', img=img_)\n",
    "#             print(\"Image saved!\")\n",
    "        \n",
    "            break\n",
    "        elif key == ord('q'):\n",
    "            print(\"Turning off camera.\")\n",
    "            webcam.release()\n",
    "            print(\"Camera off.\")\n",
    "            print(\"Program ended.\")\n",
    "            cv2.destroyAllWindows()\n",
    "            break\n",
    "        \n",
    "    except(KeyboardInterrupt):\n",
    "        print(\"Turning off camera.\")\n",
    "        webcam.release()\n",
    "        print(\"Camera off.\")\n",
    "        print(\"Program ended.\")\n",
    "        cv2.destroyAllWindows()\n",
    "        break"
   ]
  },
  {
   "cell_type": "code",
   "execution_count": null,
   "metadata": {},
   "outputs": [],
   "source": [
    "# Imports PIL module \n",
    "from PIL import Image \n",
    "\n",
    "# open method used to open different extension image file \n",
    "im = Image.open(r\"./Person1.jpg\") \n",
    "\n",
    "# This method will show image in any image viewer \n",
    "im.show()"
   ]
  },
  {
   "cell_type": "code",
   "execution_count": 10,
   "metadata": {},
   "outputs": [],
   "source": [
    "# G - 2%\n",
    "# S - 3%\n",
    "# Every365 days\n",
    "# +0.5%"
   ]
  },
  {
   "cell_type": "code",
   "execution_count": 12,
   "metadata": {},
   "outputs": [],
   "source": [
    "# Nose Pin\n",
    "# Besar\n",
    "# Ear ring\n",
    "# Tupps and Tupps\n",
    "# Chimiki\n",
    "# Mattal\n",
    "# Nickless\n",
    "# Aaram\n",
    "# Chain\n",
    "# Braclet\n",
    "# Ring\n",
    "# Anklet\n",
    "# Mangalyam Items"
   ]
  },
  {
   "cell_type": "code",
   "execution_count": null,
   "metadata": {},
   "outputs": [],
   "source": [
    "import eel\n",
    "\n",
    "##Select The Folder of FrontEnd File\n",
    "eel.init(\"web\")\n",
    "\n",
    "@eel.expose\n",
    "\n",
    "def connectDB():\n",
    "    \n",
    "    import pymongo\n",
    "    import json\n",
    "    import pandas\n",
    "\n",
    "    myclient = pymongo.MongoClient(\"mongodb://localhost:27017/\")\n",
    "    mydb = myclient[\"Shop\"]\n",
    "    mycol = mydb[\"Pawn\"]\n",
    "\n",
    "    with open(r'E:\\Freelance\\Manoj\\Data\\data.json') as f: #Enter your data.json file path\n",
    "        data = json.load(f)\n",
    "    len(data[\"main\"])\n",
    "    for each in data[\"main\"]:\n",
    "        mycol.insert_one(each)\n",
    "\n",
    "def fetchUser(Name,Number):\n",
    "    \n",
    "#     Name = str(input(\"Enter name to filter : \")).title()\n",
    "\n",
    "    if Name == \"\":\n",
    "\n",
    "        Number = str(input(\"Enter number to filter : \"))\n",
    "        c = mycol.find({\"Number\": Number})\n",
    "        for d in c:\n",
    "            return(d[\"Name\"])\n",
    "\n",
    "    a = mycol.find({\"Name\": Name.title()})\n",
    "\n",
    "    for b in a:\n",
    "        return(b)\n",
    "    \n",
    "def fetchImg(imgID):\n",
    "    \n",
    "    # Imports PIL module \n",
    "    from PIL import Image \n",
    "\n",
    "    # open method used to open different extension image file \n",
    "    im = Image.open(r\"./photos/\"+imgID+\".jpg\") \n",
    "\n",
    "    # This method will show image in any image viewer \n",
    "    im.show()\n",
    "    \n",
    "def newUser(Number, Amount,Name,Relation,Location,Place,Item,Pledged,Weight):\n",
    "    \n",
    "#     Number = str(input(\"Number : \"))\n",
    "#     Amount = int(input(\"Amount : \"))\n",
    "#     Name = str(input(\"Name : \"))\n",
    "#     Relation = str(input(\"S/O W/O D/O : \"))\n",
    "#     Location = str(input(\"Location : \"))\n",
    "#     Place = str(input(\"Place : \"))\n",
    "#     Item_type = str(input(\"Item type : \"))\n",
    "#     Item = str(input(\"Item : \"))\n",
    "#     Pledged = str(input(\"Pledged Date : \"))\n",
    "#     Weight = int(input(\"Weight : \"))\n",
    "\n",
    "    mydict={\n",
    "        \"Number\" :Number ,\n",
    "        \"Amount\" :Amount,\n",
    "        \"Name\" :Name,\n",
    "        \"S/O W/O D/O\" : Relation ,\n",
    "        \"Location\" : Location ,\n",
    "        \"Place\" :Place ,\n",
    "        \"Item\" : Item,\n",
    "        \"Pledged Date\" :Pledged,\n",
    "        \"Weight\" : Weight\n",
    "    }\n",
    "\n",
    "    mycol.insert_one(mydict)\n",
    "    \n",
    "def interestCal(Name):\n",
    "    import datetime\n",
    "\n",
    "#     Name = input(\"Enter Name : \").title()\n",
    "    a = mycol.find({\"Name\": Name.title()})\n",
    "\n",
    "    for i in a:\n",
    "\n",
    "        rates=0\n",
    "\n",
    "        if i['Item'] == \"G\":\n",
    "            rates=0.03\n",
    "        else:\n",
    "            rates=0.02\n",
    "\n",
    "        date = i[\"Pledged Date\"]\n",
    "        amount = int(i[\"Amount\"])\n",
    "        interest=amount*rates\n",
    "        final = date.replace('.','')\n",
    "        date_str = final\n",
    "        format_str = '%d%m%y' # The format\n",
    "        datetime_obj = datetime.datetime.strptime(date_str, format_str).date()\n",
    "        # print(datetime_obj)\n",
    "\n",
    "        curent=datetime.datetime.now().date()\n",
    "\n",
    "        surrendered = curent - datetime_obj\n",
    "\n",
    "        check= surrendered.days/30\n",
    "\n",
    "        print(\"₹\",i['Amount'], \"--\" ,\"₹\",int(check*interest), \"--\" , i['Item'], \"--\" , i['Weight'] )\n",
    "\n",
    "def caputre():\n",
    "    import cv2 \n",
    "    key = cv2. waitKey(1)\n",
    "    webcam = cv2.VideoCapture(0)\n",
    "    while True:\n",
    "        try:\n",
    "            check, frame = webcam.read()\n",
    "            print(check) #prints true as long as the webcam is running\n",
    "            print(frame) #prints matrix values of each framecd \n",
    "            cv2.imshow(\"Capturing\", frame)\n",
    "            key = cv2.waitKey(1)\n",
    "            if key == ord('s'): \n",
    "                cv2.imwrite(filename='saved_img.jpg', img=frame)\n",
    "                webcam.release()\n",
    "                img_new = cv2.imread('saved_img.jpg', cv2.IMREAD_GRAYSCALE)\n",
    "                img_new = cv2.imshow(\"Captured Image\", img_new)\n",
    "                cv2.waitKey(1650)\n",
    "                cv2.destroyAllWindows()\n",
    "                print(\"Processing image...\")\n",
    "                img_ = cv2.imread('saved_img.jpg', cv2.IMREAD_ANYCOLOR)\n",
    "                print(\"Converting RGB image to grayscale...\")\n",
    "                gray = cv2.cvtColor(img_, cv2.COLOR_BGR2GRAY)\n",
    "                print(\"Converted RGB image to grayscale...\")\n",
    "                print(\"Resizing image to 28x28 scale...\")\n",
    "                img_ = cv2.resize(gray,(280,280))\n",
    "                print(\"Resized...\")\n",
    "                img_resized = cv2.imwrite(filename='Person1.jpg', img=img_)\n",
    "                print(\"Image saved!\")\n",
    "\n",
    "                break\n",
    "            elif key == ord('q'):\n",
    "                print(\"Turning off camera.\")\n",
    "                webcam.release()\n",
    "                print(\"Camera off.\")\n",
    "                print(\"Program ended.\")\n",
    "                cv2.destroyAllWindows()\n",
    "                break\n",
    "\n",
    "        except(KeyboardInterrupt):\n",
    "            print(\"Turning off camera.\")\n",
    "            webcam.release()\n",
    "            print(\"Camera off.\")\n",
    "            print(\"Program ended.\")\n",
    "            cv2.destroyAllWindows()\n",
    "            break\n",
    "\n",
    "\n",
    "eel.start('index.html',size = (1024,500),cmdline_args=['--start-fullscreen'])"
   ]
  },
  {
   "cell_type": "code",
   "execution_count": 2,
   "metadata": {},
   "outputs": [
    {
     "ename": "MissingSchema",
     "evalue": "Invalid URL '{{base_url}}/verify-dl-advance/v2': No schema supplied. Perhaps you meant http://{{base_url}}/verify-dl-advance/v2?",
     "output_type": "error",
     "traceback": [
      "\u001b[1;31m---------------------------------------------------------------------------\u001b[0m",
      "\u001b[1;31mMissingSchema\u001b[0m                             Traceback (most recent call last)",
      "\u001b[1;32m<ipython-input-2-b8f90ba94d7b>\u001b[0m in \u001b[0;36m<module>\u001b[1;34m\u001b[0m\n\u001b[0;32m     10\u001b[0m }\n\u001b[0;32m     11\u001b[0m \u001b[1;33m\u001b[0m\u001b[0m\n\u001b[1;32m---> 12\u001b[1;33m \u001b[0mresponse\u001b[0m \u001b[1;33m=\u001b[0m \u001b[0mrequests\u001b[0m\u001b[1;33m.\u001b[0m\u001b[0mrequest\u001b[0m\u001b[1;33m(\u001b[0m\u001b[1;34m\"POST\"\u001b[0m\u001b[1;33m,\u001b[0m \u001b[0murl\u001b[0m\u001b[1;33m,\u001b[0m \u001b[0mheaders\u001b[0m\u001b[1;33m=\u001b[0m\u001b[0mheaders\u001b[0m\u001b[1;33m,\u001b[0m \u001b[0mdata\u001b[0m \u001b[1;33m=\u001b[0m \u001b[0mpayload\u001b[0m\u001b[1;33m)\u001b[0m\u001b[1;33m\u001b[0m\u001b[1;33m\u001b[0m\u001b[0m\n\u001b[0m\u001b[0;32m     13\u001b[0m \u001b[1;33m\u001b[0m\u001b[0m\n\u001b[0;32m     14\u001b[0m \u001b[0mprint\u001b[0m\u001b[1;33m(\u001b[0m\u001b[0mresponse\u001b[0m\u001b[1;33m.\u001b[0m\u001b[0mtext\u001b[0m\u001b[1;33m.\u001b[0m\u001b[0mencode\u001b[0m\u001b[1;33m(\u001b[0m\u001b[1;34m'utf8'\u001b[0m\u001b[1;33m)\u001b[0m\u001b[1;33m)\u001b[0m\u001b[1;33m\u001b[0m\u001b[1;33m\u001b[0m\u001b[0m\n",
      "\u001b[1;32m~\\anaconda3\\lib\\site-packages\\requests\\api.py\u001b[0m in \u001b[0;36mrequest\u001b[1;34m(method, url, **kwargs)\u001b[0m\n\u001b[0;32m     58\u001b[0m     \u001b[1;31m# cases, and look like a memory leak in others.\u001b[0m\u001b[1;33m\u001b[0m\u001b[1;33m\u001b[0m\u001b[1;33m\u001b[0m\u001b[0m\n\u001b[0;32m     59\u001b[0m     \u001b[1;32mwith\u001b[0m \u001b[0msessions\u001b[0m\u001b[1;33m.\u001b[0m\u001b[0mSession\u001b[0m\u001b[1;33m(\u001b[0m\u001b[1;33m)\u001b[0m \u001b[1;32mas\u001b[0m \u001b[0msession\u001b[0m\u001b[1;33m:\u001b[0m\u001b[1;33m\u001b[0m\u001b[1;33m\u001b[0m\u001b[0m\n\u001b[1;32m---> 60\u001b[1;33m         \u001b[1;32mreturn\u001b[0m \u001b[0msession\u001b[0m\u001b[1;33m.\u001b[0m\u001b[0mrequest\u001b[0m\u001b[1;33m(\u001b[0m\u001b[0mmethod\u001b[0m\u001b[1;33m=\u001b[0m\u001b[0mmethod\u001b[0m\u001b[1;33m,\u001b[0m \u001b[0murl\u001b[0m\u001b[1;33m=\u001b[0m\u001b[0murl\u001b[0m\u001b[1;33m,\u001b[0m \u001b[1;33m**\u001b[0m\u001b[0mkwargs\u001b[0m\u001b[1;33m)\u001b[0m\u001b[1;33m\u001b[0m\u001b[1;33m\u001b[0m\u001b[0m\n\u001b[0m\u001b[0;32m     61\u001b[0m \u001b[1;33m\u001b[0m\u001b[0m\n\u001b[0;32m     62\u001b[0m \u001b[1;33m\u001b[0m\u001b[0m\n",
      "\u001b[1;32m~\\anaconda3\\lib\\site-packages\\requests\\sessions.py\u001b[0m in \u001b[0;36mrequest\u001b[1;34m(self, method, url, params, data, headers, cookies, files, auth, timeout, allow_redirects, proxies, hooks, stream, verify, cert, json)\u001b[0m\n\u001b[0;32m    517\u001b[0m             \u001b[0mhooks\u001b[0m\u001b[1;33m=\u001b[0m\u001b[0mhooks\u001b[0m\u001b[1;33m,\u001b[0m\u001b[1;33m\u001b[0m\u001b[1;33m\u001b[0m\u001b[0m\n\u001b[0;32m    518\u001b[0m         )\n\u001b[1;32m--> 519\u001b[1;33m         \u001b[0mprep\u001b[0m \u001b[1;33m=\u001b[0m \u001b[0mself\u001b[0m\u001b[1;33m.\u001b[0m\u001b[0mprepare_request\u001b[0m\u001b[1;33m(\u001b[0m\u001b[0mreq\u001b[0m\u001b[1;33m)\u001b[0m\u001b[1;33m\u001b[0m\u001b[1;33m\u001b[0m\u001b[0m\n\u001b[0m\u001b[0;32m    520\u001b[0m \u001b[1;33m\u001b[0m\u001b[0m\n\u001b[0;32m    521\u001b[0m         \u001b[0mproxies\u001b[0m \u001b[1;33m=\u001b[0m \u001b[0mproxies\u001b[0m \u001b[1;32mor\u001b[0m \u001b[1;33m{\u001b[0m\u001b[1;33m}\u001b[0m\u001b[1;33m\u001b[0m\u001b[1;33m\u001b[0m\u001b[0m\n",
      "\u001b[1;32m~\\anaconda3\\lib\\site-packages\\requests\\sessions.py\u001b[0m in \u001b[0;36mprepare_request\u001b[1;34m(self, request)\u001b[0m\n\u001b[0;32m    460\u001b[0m             \u001b[0mauth\u001b[0m\u001b[1;33m=\u001b[0m\u001b[0mmerge_setting\u001b[0m\u001b[1;33m(\u001b[0m\u001b[0mauth\u001b[0m\u001b[1;33m,\u001b[0m \u001b[0mself\u001b[0m\u001b[1;33m.\u001b[0m\u001b[0mauth\u001b[0m\u001b[1;33m)\u001b[0m\u001b[1;33m,\u001b[0m\u001b[1;33m\u001b[0m\u001b[1;33m\u001b[0m\u001b[0m\n\u001b[0;32m    461\u001b[0m             \u001b[0mcookies\u001b[0m\u001b[1;33m=\u001b[0m\u001b[0mmerged_cookies\u001b[0m\u001b[1;33m,\u001b[0m\u001b[1;33m\u001b[0m\u001b[1;33m\u001b[0m\u001b[0m\n\u001b[1;32m--> 462\u001b[1;33m             \u001b[0mhooks\u001b[0m\u001b[1;33m=\u001b[0m\u001b[0mmerge_hooks\u001b[0m\u001b[1;33m(\u001b[0m\u001b[0mrequest\u001b[0m\u001b[1;33m.\u001b[0m\u001b[0mhooks\u001b[0m\u001b[1;33m,\u001b[0m \u001b[0mself\u001b[0m\u001b[1;33m.\u001b[0m\u001b[0mhooks\u001b[0m\u001b[1;33m)\u001b[0m\u001b[1;33m,\u001b[0m\u001b[1;33m\u001b[0m\u001b[1;33m\u001b[0m\u001b[0m\n\u001b[0m\u001b[0;32m    463\u001b[0m         )\n\u001b[0;32m    464\u001b[0m         \u001b[1;32mreturn\u001b[0m \u001b[0mp\u001b[0m\u001b[1;33m\u001b[0m\u001b[1;33m\u001b[0m\u001b[0m\n",
      "\u001b[1;32m~\\anaconda3\\lib\\site-packages\\requests\\models.py\u001b[0m in \u001b[0;36mprepare\u001b[1;34m(self, method, url, headers, files, data, params, auth, cookies, hooks, json)\u001b[0m\n\u001b[0;32m    311\u001b[0m \u001b[1;33m\u001b[0m\u001b[0m\n\u001b[0;32m    312\u001b[0m         \u001b[0mself\u001b[0m\u001b[1;33m.\u001b[0m\u001b[0mprepare_method\u001b[0m\u001b[1;33m(\u001b[0m\u001b[0mmethod\u001b[0m\u001b[1;33m)\u001b[0m\u001b[1;33m\u001b[0m\u001b[1;33m\u001b[0m\u001b[0m\n\u001b[1;32m--> 313\u001b[1;33m         \u001b[0mself\u001b[0m\u001b[1;33m.\u001b[0m\u001b[0mprepare_url\u001b[0m\u001b[1;33m(\u001b[0m\u001b[0murl\u001b[0m\u001b[1;33m,\u001b[0m \u001b[0mparams\u001b[0m\u001b[1;33m)\u001b[0m\u001b[1;33m\u001b[0m\u001b[1;33m\u001b[0m\u001b[0m\n\u001b[0m\u001b[0;32m    314\u001b[0m         \u001b[0mself\u001b[0m\u001b[1;33m.\u001b[0m\u001b[0mprepare_headers\u001b[0m\u001b[1;33m(\u001b[0m\u001b[0mheaders\u001b[0m\u001b[1;33m)\u001b[0m\u001b[1;33m\u001b[0m\u001b[1;33m\u001b[0m\u001b[0m\n\u001b[0;32m    315\u001b[0m         \u001b[0mself\u001b[0m\u001b[1;33m.\u001b[0m\u001b[0mprepare_cookies\u001b[0m\u001b[1;33m(\u001b[0m\u001b[0mcookies\u001b[0m\u001b[1;33m)\u001b[0m\u001b[1;33m\u001b[0m\u001b[1;33m\u001b[0m\u001b[0m\n",
      "\u001b[1;32m~\\anaconda3\\lib\\site-packages\\requests\\models.py\u001b[0m in \u001b[0;36mprepare_url\u001b[1;34m(self, url, params)\u001b[0m\n\u001b[0;32m    385\u001b[0m             \u001b[0merror\u001b[0m \u001b[1;33m=\u001b[0m \u001b[0merror\u001b[0m\u001b[1;33m.\u001b[0m\u001b[0mformat\u001b[0m\u001b[1;33m(\u001b[0m\u001b[0mto_native_string\u001b[0m\u001b[1;33m(\u001b[0m\u001b[0murl\u001b[0m\u001b[1;33m,\u001b[0m \u001b[1;34m'utf8'\u001b[0m\u001b[1;33m)\u001b[0m\u001b[1;33m)\u001b[0m\u001b[1;33m\u001b[0m\u001b[1;33m\u001b[0m\u001b[0m\n\u001b[0;32m    386\u001b[0m \u001b[1;33m\u001b[0m\u001b[0m\n\u001b[1;32m--> 387\u001b[1;33m             \u001b[1;32mraise\u001b[0m \u001b[0mMissingSchema\u001b[0m\u001b[1;33m(\u001b[0m\u001b[0merror\u001b[0m\u001b[1;33m)\u001b[0m\u001b[1;33m\u001b[0m\u001b[1;33m\u001b[0m\u001b[0m\n\u001b[0m\u001b[0;32m    388\u001b[0m \u001b[1;33m\u001b[0m\u001b[0m\n\u001b[0;32m    389\u001b[0m         \u001b[1;32mif\u001b[0m \u001b[1;32mnot\u001b[0m \u001b[0mhost\u001b[0m\u001b[1;33m:\u001b[0m\u001b[1;33m\u001b[0m\u001b[1;33m\u001b[0m\u001b[0m\n",
      "\u001b[1;31mMissingSchema\u001b[0m: Invalid URL '{{base_url}}/verify-dl-advance/v2': No schema supplied. Perhaps you meant http://{{base_url}}/verify-dl-advance/v2?"
     ]
    }
   ],
   "source": [
    "import requests\n",
    "\n",
    "url = `{{base_url}}/verify-dl-advance/v2`\n",
    "\n",
    "payload = `{\\n    \\\"dl_no\\\": \\\"<<Dl Number>>\\\",\\n    \\\"consent\\\": \\\"<< Y or N >>\\\",\\n    \\\"dob\\\":\\\"<<dd-mm-yyyy>>(optional)\\\",\\n    \\\"consent_text\\\": \\\"<< Consent Message >>\\\"\\n}`\n",
    "headers = {\n",
    "  'Content-Type': 'application/json',\n",
    "  'qt_api_key': '{{qt_api_key_value}}',\n",
    "  'qt_agency_id': '{{qt_agency_id}}'\n",
    "}\n",
    "\n",
    "response = requests.request(\"POST\", url, headers=headers, data = payload)\n",
    "\n",
    "print(response.text.encode('utf8'))"
   ]
  },
  {
   "cell_type": "code",
   "execution_count": null,
   "metadata": {},
   "outputs": [],
   "source": []
  }
 ],
 "metadata": {
  "kernelspec": {
   "display_name": "Python 3",
   "language": "python",
   "name": "python3"
  },
  "language_info": {
   "codemirror_mode": {
    "name": "ipython",
    "version": 3
   },
   "file_extension": ".py",
   "mimetype": "text/x-python",
   "name": "python",
   "nbconvert_exporter": "python",
   "pygments_lexer": "ipython3",
   "version": "3.7.4"
  }
 },
 "nbformat": 4,
 "nbformat_minor": 2
}
