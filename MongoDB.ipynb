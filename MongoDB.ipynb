{
 "cells": [
  {
   "cell_type": "markdown",
   "metadata": {},
   "source": [
    "# Any Doubts Call Me!!"
   ]
  },
  {
   "cell_type": "markdown",
   "metadata": {},
   "source": [
    "# Store all data into MongoDB"
   ]
  },
  {
   "cell_type": "code",
   "execution_count": 8,
   "metadata": {
    "scrolled": false
   },
   "outputs": [],
   "source": [
    "import pymongo\n",
    "import json\n",
    "import pandas\n",
    "\n",
    "myclient = pymongo.MongoClient(\"mongodb://localhost:27017/\")\n",
    "mydb = myclient[\"Shop\"]\n",
    "mycol = mydb[\"Pawn\"]\n",
    "\n",
    "with open(r'E:\\Freelance\\Manoj\\Data\\data.json') as f: #Enter your data.json file path\n",
    "    data = json.load(f)\n",
    "len(data[\"main\"])\n",
    "for each in data[\"main\"]:\n",
    "    mycol.insert_one(each)"
   ]
  },
  {
   "cell_type": "markdown",
   "metadata": {},
   "source": [
    "# Connect to MongoDB"
   ]
  },
  {
   "cell_type": "code",
   "execution_count": 2,
   "metadata": {},
   "outputs": [],
   "source": [
    "import pymongo\n",
    "\n",
    "myclient = pymongo.MongoClient(\"mongodb://localhost:27017/\")\n",
    "mydb = myclient[\"Shop\"]\n",
    "mycol = mydb[\"Pawn\"]"
   ]
  },
  {
   "cell_type": "markdown",
   "metadata": {},
   "source": [
    "# Add Details to Database"
   ]
  },
  {
   "cell_type": "code",
   "execution_count": 11,
   "metadata": {
    "scrolled": false
   },
   "outputs": [
    {
     "name": "stdout",
     "output_type": "stream",
     "text": [
      "Number : AAKK 638\n",
      "Amount : 5000\n",
      "Name : Vasanthi\n",
      "S/O W/O D/O : Mani\n",
      "Location : Tiruvallue\n",
      "Place : Kakalur\n",
      "Item type : G\n",
      "Item : Rign\n",
      "Pledged Date : 15.08.2020\n",
      "Weight : 19\n"
     ]
    },
    {
     "data": {
      "text/plain": [
       "<pymongo.results.InsertOneResult at 0x94d7d0e4c8>"
      ]
     },
     "execution_count": 11,
     "metadata": {},
     "output_type": "execute_result"
    }
   ],
   "source": [
    "Number = str(input(\"Number : \"))\n",
    "Amount = int(input(\"Amount : \"))\n",
    "Name = str(input(\"Name : \"))\n",
    "Relation = str(input(\"S/O W/O D/O : \"))\n",
    "Location = str(input(\"Location : \"))\n",
    "Place = str(input(\"Place : \"))\n",
    "Item_type = str(input(\"Item type : \"))\n",
    "Item = str(input(\"Item : \"))\n",
    "Pledged = str(input(\"Pledged Date : \"))\n",
    "Weight = int(input(\"Weight : \"))\n",
    "\n",
    "mydict={\n",
    "    \"Number\" :Number ,\n",
    "    \"Amount\" :Amount,\n",
    "    \"Name\" :Name,\n",
    "    \"S/O W/O D/O\" : Relation ,\n",
    "    \"Location\" : Location ,\n",
    "    \"Place\" :Place ,\n",
    "    \"Item\" : Item,\n",
    "    \"Pledged Date\" :Pledged,\n",
    "    \"Weight\" : Weight\n",
    "}\n",
    "\n",
    "mycol.insert_one(mydict)"
   ]
  },
  {
   "cell_type": "markdown",
   "metadata": {},
   "source": [
    "## Fetch Stored data"
   ]
  },
  {
   "cell_type": "code",
   "execution_count": 2,
   "metadata": {
    "scrolled": true
   },
   "outputs": [
    {
     "name": "stdout",
     "output_type": "stream",
     "text": [
      "Enter name to filter : Haridass\n",
      "{'_id': ObjectId('5f37d60b39f232d253cf4cbe'), 'Number': 'AAJ 417', 'Amount': '1900', 'Name': 'Haridass', 'S/O W/O D/O': 'Chandran', 'Location': 'Nagattaman Koil Street', 'Place': 'Erayamangalam', 'Item': 'S', 'Pledged Date': '06.02.16', 'Weight': '86'}\n",
      "{'_id': ObjectId('5f37d60b39f232d253cf4cbf'), 'Number': 'AAJ 727', 'Amount': '900', 'Name': 'Haridass', 'S/O W/O D/O': 'Chandran', 'Location': 'Nagattaman Koil Street', 'Place': 'Erayamangalam', 'Item': 'G', 'Pledged Date': '28.03.16', 'Weight': '0.6'}\n",
      "{'_id': ObjectId('5f37d60b39f232d253cf4cc0'), 'Number': 'AAJ 923', 'Amount': '5000', 'Name': 'Haridass', 'S/O W/O D/O': 'Chandran', 'Location': 'Nagattaman Koil Street', 'Place': 'Erayamangalam', 'Item': 'S', 'Pledged Date': '14.05.16', 'Weight': '210'}\n",
      "{'_id': ObjectId('5f37d60b39f232d253cf4cc1'), 'Number': 'AAJ 924', 'Amount': '1500', 'Name': 'Haridass', 'S/O W/O D/O': 'Chandran', 'Location': 'Nagattaman Koil Street', 'Place': 'Erayamangalam', 'Item': 'G', 'Pledged Date': '14.05.16', 'Weight': '0.75'}\n"
     ]
    }
   ],
   "source": [
    "Name = str(input(\"Enter name to filter : \")).title()\n",
    "\n",
    "if Name == \"\":\n",
    "\n",
    "    Number = str(input(\"Enter number to filter : \"))\n",
    "    c = mycol.find({\"Number\": Number})\n",
    "    for d in c:\n",
    "        print(d[\"Name\"])\n",
    "\n",
    "a = mycol.find({\"Name\": Name})\n",
    "\n",
    "for b in a:\n",
    "    print(b)"
   ]
  },
  {
   "cell_type": "markdown",
   "metadata": {},
   "source": [
    "## Total Interset till current date by the name of person all surrender jewel"
   ]
  },
  {
   "cell_type": "code",
   "execution_count": 15,
   "metadata": {},
   "outputs": [],
   "source": [
    "#The interest is calculated by 2% for each month of 30days"
   ]
  },
  {
   "cell_type": "code",
   "execution_count": 10,
   "metadata": {},
   "outputs": [
    {
     "name": "stdout",
     "output_type": "stream",
     "text": [
      "Enter Name : haridass\n",
      "₹ 1900 -- ₹ 2093 -- S -- 86\n",
      "₹ 900 -- ₹ 1441 -- G -- 0.6\n",
      "₹ 5000 -- ₹ 5183 -- S -- 210\n",
      "₹ 1500 -- ₹ 2332 -- G -- 0.75\n"
     ]
    }
   ],
   "source": [
    "import datetime\n",
    "\n",
    "Name = input(\"Enter Name : \").title()\n",
    "a = mycol.find({\"Name\": Name})\n",
    "\n",
    "for i in a:\n",
    "    \n",
    "    rates=0\n",
    "    \n",
    "    if i['Item'] == \"G\":\n",
    "        rates=0.03\n",
    "    else:\n",
    "        rates=0.02\n",
    "    \n",
    "    date = i[\"Pledged Date\"]\n",
    "    amount = int(i[\"Amount\"])\n",
    "    interest=amount*rates\n",
    "    final = date.replace('.','')\n",
    "    date_str = final\n",
    "    format_str = '%d%m%y' # The format\n",
    "    datetime_obj = datetime.datetime.strptime(date_str, format_str).date()\n",
    "    # print(datetime_obj)\n",
    "    \n",
    "    curent=datetime.datetime.now().date()\n",
    "\n",
    "    surrendered = curent - datetime_obj\n",
    "\n",
    "    check= surrendered.days/30\n",
    "\n",
    "    print(\"₹\",i['Amount'], \"--\" ,\"₹\",int(check*interest), \"--\" , i['Item'], \"--\" , i['Weight'] )"
   ]
  },
  {
   "cell_type": "markdown",
   "metadata": {},
   "source": [
    "## OpenCV to capture image from webcam and store it into localstorage"
   ]
  },
  {
   "cell_type": "code",
   "execution_count": 4,
   "metadata": {},
   "outputs": [
    {
     "ename": "error",
     "evalue": "OpenCV(4.4.0) C:\\Users\\appveyor\\AppData\\Local\\Temp\\1\\pip-req-build-xr4y3u3_\\opencv\\modules\\highgui\\src\\window.cpp:376: error: (-215:Assertion failed) size.width>0 && size.height>0 in function 'cv::imshow'\n",
     "output_type": "error",
     "traceback": [
      "\u001b[1;31m---------------------------------------------------------------------------\u001b[0m",
      "\u001b[1;31merror\u001b[0m                                     Traceback (most recent call last)",
      "\u001b[1;32m<ipython-input-4-255ff62f6133>\u001b[0m in \u001b[0;36m<module>\u001b[1;34m\u001b[0m\n\u001b[0;32m      2\u001b[0m \u001b[0mcam\u001b[0m \u001b[1;33m=\u001b[0m \u001b[0mcv2\u001b[0m\u001b[1;33m.\u001b[0m\u001b[0mVideoCapture\u001b[0m\u001b[1;33m(\u001b[0m\u001b[1;36m1\u001b[0m\u001b[1;33m)\u001b[0m\u001b[1;33m\u001b[0m\u001b[1;33m\u001b[0m\u001b[0m\n\u001b[0;32m      3\u001b[0m \u001b[0ms\u001b[0m\u001b[1;33m,\u001b[0m \u001b[0mim\u001b[0m \u001b[1;33m=\u001b[0m \u001b[0mcam\u001b[0m\u001b[1;33m.\u001b[0m\u001b[0mread\u001b[0m\u001b[1;33m(\u001b[0m\u001b[1;33m)\u001b[0m \u001b[1;31m# captures image\u001b[0m\u001b[1;33m\u001b[0m\u001b[1;33m\u001b[0m\u001b[0m\n\u001b[1;32m----> 4\u001b[1;33m \u001b[0mcv2\u001b[0m\u001b[1;33m.\u001b[0m\u001b[0mimshow\u001b[0m\u001b[1;33m(\u001b[0m\u001b[1;34m\"Test Picture\"\u001b[0m\u001b[1;33m,\u001b[0m \u001b[0mim\u001b[0m\u001b[1;33m)\u001b[0m \u001b[1;31m# displays captured image\u001b[0m\u001b[1;33m\u001b[0m\u001b[1;33m\u001b[0m\u001b[0m\n\u001b[0m\u001b[0;32m      5\u001b[0m \u001b[0mcv2\u001b[0m\u001b[1;33m.\u001b[0m\u001b[0mimwrite\u001b[0m\u001b[1;33m(\u001b[0m\u001b[1;34m\"test.bmp\"\u001b[0m\u001b[1;33m,\u001b[0m\u001b[0mim\u001b[0m\u001b[1;33m)\u001b[0m \u001b[1;31m# writes image test.bmp to disk\u001b[0m\u001b[1;33m\u001b[0m\u001b[1;33m\u001b[0m\u001b[0m\n",
      "\u001b[1;31merror\u001b[0m: OpenCV(4.4.0) C:\\Users\\appveyor\\AppData\\Local\\Temp\\1\\pip-req-build-xr4y3u3_\\opencv\\modules\\highgui\\src\\window.cpp:376: error: (-215:Assertion failed) size.width>0 && size.height>0 in function 'cv::imshow'\n"
     ]
    }
   ],
   "source": [
    "import cv2\n",
    "cam = cv2.VideoCapture(1)\n",
    "s, im = cam.read() # captures image\n",
    "cv2.imshow(\"Test Picture\", im) # displays captured image\n",
    "cv2.imwrite(\"test.bmp\",im) # writes image test.bmp to disk"
   ]
  },
  {
   "cell_type": "code",
   "execution_count": 10,
   "metadata": {},
   "outputs": [],
   "source": [
    "# G - 2%\n",
    "# S - 3%\n",
    "# Every365 days\n",
    "# +0.5%"
   ]
  },
  {
   "cell_type": "code",
   "execution_count": 12,
   "metadata": {},
   "outputs": [],
   "source": [
    "# Nose Pin\n",
    "# Besar\n",
    "# Ear ring\n",
    "# Tupps and Tupps\n",
    "# Chimiki\n",
    "# Mattal\n",
    "# Nickless\n",
    "# Aaram\n",
    "# Chain\n",
    "# Braclet\n",
    "# Ring\n",
    "# Anklet\n",
    "# Mangalyam Items"
   ]
  },
  {
   "cell_type": "code",
   "execution_count": null,
   "metadata": {},
   "outputs": [],
   "source": []
  }
 ],
 "metadata": {
  "kernelspec": {
   "display_name": "Python 3",
   "language": "python",
   "name": "python3"
  },
  "language_info": {
   "codemirror_mode": {
    "name": "ipython",
    "version": 3
   },
   "file_extension": ".py",
   "mimetype": "text/x-python",
   "name": "python",
   "nbconvert_exporter": "python",
   "pygments_lexer": "ipython3",
   "version": "3.7.6"
  }
 },
 "nbformat": 4,
 "nbformat_minor": 2
}
