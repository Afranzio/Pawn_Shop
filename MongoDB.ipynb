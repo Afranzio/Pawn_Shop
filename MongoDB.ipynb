{
 "cells": [
  {
   "cell_type": "markdown",
   "metadata": {},
   "source": [
    "# Any Doubts Call Me!!"
   ]
  },
  {
   "cell_type": "markdown",
   "metadata": {},
   "source": [
    "# Store all data into MongoDB"
   ]
  },
  {
   "cell_type": "code",
   "execution_count": 3,
   "metadata": {
    "scrolled": false
   },
   "outputs": [],
   "source": [
    "import pymongo\n",
    "import json\n",
    "import pandas\n",
    "\n",
    "myclient = pymongo.MongoClient(\"mongodb://localhost:27017/\")\n",
    "mydb = myclient[\"Shop\"]\n",
    "mycol = mydb[\"Pawn\"]\n",
    "\n",
    "with open(r'E:\\Freelance\\Manoj\\Data\\data.json') as f:\n",
    "    data = json.load(f)\n",
    "len(data[\"main\"])\n",
    "for each in data[\"main\"]:\n",
    "    mycol.insert_one(each)"
   ]
  },
  {
   "cell_type": "markdown",
   "metadata": {},
   "source": [
    "# Connect to MongoDB"
   ]
  },
  {
   "cell_type": "code",
   "execution_count": 1,
   "metadata": {},
   "outputs": [],
   "source": [
    "import pymongo\n",
    "\n",
    "myclient = pymongo.MongoClient(\"mongodb://localhost:27017/\")\n",
    "mydb = myclient[\"Shop\"]\n",
    "mycol = mydb[\"Pawn\"]"
   ]
  },
  {
   "cell_type": "markdown",
   "metadata": {},
   "source": [
    "# Add Details to Database"
   ]
  },
  {
   "cell_type": "code",
   "execution_count": 4,
   "metadata": {
    "scrolled": false
   },
   "outputs": [
    {
     "name": "stdout",
     "output_type": "stream",
     "text": [
      "Number : 8\n",
      "Amount : 8\n",
      "Name : 8\n",
      "S/O W/O D/O : 8\n",
      "Location : 8\n",
      "Place : 8\n",
      "Item : 8\n",
      "Pledged Date : 8\n",
      "Weight : 8\n"
     ]
    },
    {
     "data": {
      "text/plain": [
       "<pymongo.results.InsertOneResult at 0xf640307a88>"
      ]
     },
     "execution_count": 4,
     "metadata": {},
     "output_type": "execute_result"
    }
   ],
   "source": [
    "Number = str(input(\"Number : \"))\n",
    "Amount = int(input(\"Amount : \"))\n",
    "Name = str(input(\"Name : \"))\n",
    "Relation = str(input(\"S/O W/O D/O : \"))\n",
    "Location = str(input(\"Location : \"))\n",
    "Place = str(input(\"Place : \"))\n",
    "Item = str(input(\"Item : \"))\n",
    "Pledged = str(input(\"Pledged Date : \"))\n",
    "Weight = int(input(\"Weight : \"))\n",
    "\n",
    "mydict={\n",
    "    \"Number\" :Number ,\n",
    "    \"Amount\" :Amount,\n",
    "    \"Name\" :Name,\n",
    "    \"S/O W/O D/O\" : Relation ,\n",
    "    \"Location\" : Location ,\n",
    "    \"Place\" :Place ,\n",
    "    \"Item\" : Item,\n",
    "    \"Pledged Date\" :Pledged,\n",
    "    \"Weight\" : Weight\n",
    "}\n",
    "\n",
    "mycol.insert_one(mydict)"
   ]
  },
  {
   "cell_type": "markdown",
   "metadata": {},
   "source": [
    "## Fetch Stored data"
   ]
  },
  {
   "cell_type": "code",
   "execution_count": 9,
   "metadata": {},
   "outputs": [
    {
     "name": "stdout",
     "output_type": "stream",
     "text": [
      "Enter name to filter : pandian\n",
      "{'_id': ObjectId('5f33a9bb6eb08165dfbdfaaf'), 'Number': 'AAJ 694', 'Amount': '4500', 'Name': 'Pandian', 'S/O W/O D/O': 'Sivagnanam', 'Location': '67, Vinayagar Koil Street', 'Place': 'Mettupalayam', 'Item': 'G', 'Pledged Date': '22.03.16', 'Weight': '2.6'}\n",
      "{'_id': ObjectId('5f33a9bb6eb08165dfbdfb98'), 'Number': 'AAK 3510', 'Amount': '3000', 'Name': 'Pandian', 'S/O W/O D/O': 'Sivagnanam', 'Location': '63, Vinayagar Koil Street', 'Place': 'Mettupalayam', 'Item': 'G', 'Pledged Date': '20.02.19', 'Weight': '1.2'}\n",
      "{'_id': ObjectId('5f33a9bc6eb08165dfbdfcf4'), 'Number': 'AAK 5052', 'Amount': '3500', 'Name': 'Pandian', 'S/O W/O D/O': 'Ezhumalai', 'Location': '100, Melanda Street', 'Place': 'Thalakkanchery', 'Item': 'G', 'Pledged Date': '09.03.20', 'Weight': '1.8', 'Mobile Number': '8754203254'}\n",
      "{'_id': ObjectId('5f33a9bc6eb08165dfbdfda1'), 'Number': 'AAK 5293', 'Amount': '3000', 'Name': 'Pandian', 'S/O W/O D/O': 'Sankar', 'Location': 'Ambedkar Street', 'Place': 'Ramathandalam', 'Item': 'S', 'Pledged Date': '03.08.20', 'Weight': '110', 'Mobile Number': '9361830815'}\n"
     ]
    }
   ],
   "source": [
    "Name = str(input(\"Enter name to filter : \")).title()\n",
    "\n",
    "a = mycol.find({\"Name\": Name})\n",
    "\n",
    "for b in a:\n",
    "    print(b)"
   ]
  },
  {
   "cell_type": "code",
   "execution_count": null,
   "metadata": {},
   "outputs": [],
   "source": []
  },
  {
   "cell_type": "code",
   "execution_count": null,
   "metadata": {},
   "outputs": [],
   "source": [
    "^6=2%/month"
   ]
  },
  {
   "cell_type": "code",
   "execution_count": null,
   "metadata": {},
   "outputs": [],
   "source": []
  },
  {
   "cell_type": "markdown",
   "metadata": {},
   "source": [
    "## Total Interset till current date by the name of person first surender"
   ]
  },
  {
   "cell_type": "code",
   "execution_count": 80,
   "metadata": {},
   "outputs": [
    {
     "name": "stdout",
     "output_type": "stream",
     "text": [
      "Enter Name : haridass\n",
      "2090\n"
     ]
    }
   ],
   "source": [
    "import datetime\n",
    "\n",
    "Name = input(\"Enter Name : \").title()\n",
    "a = mycol.find({\"Name\": Name})\n",
    "\n",
    "date = a[0][\"Pledged Date\"]\n",
    "amount = int(a[0][\"Amount\"])\n",
    "interest=amount*0.02\n",
    "final = date.replace('.','')\n",
    "date_str = final\n",
    "format_str = '%d%m%y' # The format\n",
    "datetime_obj = datetime.datetime.strptime(date_str, format_str).date()\n",
    "# print(datetime_obj)\n",
    "\n",
    "curent=datetime.datetime.now().date()\n",
    "\n",
    "surrendered = curent -datetime_obj\n",
    "\n",
    "check= surrendered.days/30\n",
    "\n",
    "print(int(check*interest))"
   ]
  },
  {
   "cell_type": "code",
   "execution_count": null,
   "metadata": {},
   "outputs": [],
   "source": []
  }
 ],
 "metadata": {
  "kernelspec": {
   "display_name": "Python 3",
   "language": "python",
   "name": "python3"
  },
  "language_info": {
   "codemirror_mode": {
    "name": "ipython",
    "version": 3
   },
   "file_extension": ".py",
   "mimetype": "text/x-python",
   "name": "python",
   "nbconvert_exporter": "python",
   "pygments_lexer": "ipython3",
   "version": "3.7.6"
  }
 },
 "nbformat": 4,
 "nbformat_minor": 2
}
