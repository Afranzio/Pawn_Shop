{
 "cells": [
  {
   "cell_type": "markdown",
   "metadata": {},
   "source": [
    "# Any Doubts Call Me!!"
   ]
  },
  {
   "cell_type": "code",
   "execution_count": 3,
   "metadata": {
    "scrolled": false
   },
   "outputs": [],
   "source": [
    "import pymongo\n",
    "import json\n",
    "import pandas\n",
    "\n",
    "myclient = pymongo.MongoClient(\"mongodb://localhost:27017/\")\n",
    "mydb = myclient[\"Shop\"]\n",
    "mycol = mydb[\"Pawn\"]\n",
    "\n",
    "with open(r'E:\\Freelance\\Manoj\\Data\\data.json') as f:\n",
    "    data = json.load(f)\n",
    "len(data[\"main\"])\n",
    "for each in data[\"main\"]:\n",
    "    mycol.insert_one(each)"
   ]
  },
  {
   "cell_type": "markdown",
   "metadata": {},
   "source": [
    "# The above is used to store all data into MongoDB"
   ]
  },
  {
   "cell_type": "code",
   "execution_count": 2,
   "metadata": {},
   "outputs": [],
   "source": [
    "import pymongo\n",
    "\n",
    "myclient = pymongo.MongoClient(\"mongodb://localhost:27017/\")\n",
    "mydb = myclient[\"Shop\"]\n",
    "mycol = mydb[\"Pawn\"]"
   ]
  },
  {
   "cell_type": "code",
   "execution_count": 4,
   "metadata": {
    "scrolled": false
   },
   "outputs": [
    {
     "name": "stdout",
     "output_type": "stream",
     "text": [
      "Number : 8\n",
      "Amount : 8\n",
      "Name : 8\n",
      "S/O W/O D/O : 8\n",
      "Location : 8\n",
      "Place : 8\n",
      "Item : 8\n",
      "Pledged Date : 8\n",
      "Weight : 8\n"
     ]
    },
    {
     "data": {
      "text/plain": [
       "<pymongo.results.InsertOneResult at 0xf640307a88>"
      ]
     },
     "execution_count": 4,
     "metadata": {},
     "output_type": "execute_result"
    }
   ],
   "source": [
    "Number = str(input(\"Number : \"))\n",
    "Amount = int(input(\"Amount : \"))\n",
    "Name = str(input(\"Name : \"))\n",
    "Relation = str(input(\"S/O W/O D/O : \"))\n",
    "Location = str(input(\"Location : \"))\n",
    "Place = str(input(\"Place : \"))\n",
    "Item = str(input(\"Item : \"))\n",
    "Pledged = str(input(\"Pledged Date : \"))\n",
    "Weight = int(input(\"Weight : \"))\n",
    "\n",
    "mydict={\n",
    "    \"Number\" :Number ,\n",
    "    \"Amount\" :Amount,\n",
    "    \"Name\" :Name,\n",
    "    \"S/O W/O D/O\" : Relation ,\n",
    "    \"Location\" : Location ,\n",
    "    \"Place\" :Place ,\n",
    "    \"Item\" : Item,\n",
    "    \"Pledged Date\" :Pledged,\n",
    "    \"Weight\" : Weight\n",
    "}\n",
    "\n",
    "mycol.insert_one(mydict)"
   ]
  },
  {
   "cell_type": "code",
   "execution_count": 3,
   "metadata": {},
   "outputs": [
    {
     "name": "stdout",
     "output_type": "stream",
     "text": [
      "Enter name to filter : Vasanthi\n",
      "{'Number': 'AAK 14', 'Amount': '7000', 'Name': 'Vasanthi', 'S/O W/O D/O': 'Venkatesan', 'Location': '25, Konniamman Nagar', 'Place': 'Thalakkanchery', 'Item': 'G', 'Pledged Date': '02.11.16', 'Weight': '3.8', 'Mobile Number': '9629417227'}\n"
     ]
    },
    {
     "ename": "KeyError",
     "evalue": "'Mobile Number'",
     "output_type": "error",
     "traceback": [
      "\u001b[1;31m---------------------------------------------------------------------------\u001b[0m",
      "\u001b[1;31mKeyError\u001b[0m                                  Traceback (most recent call last)",
      "\u001b[1;32m<ipython-input-3-71ef836be31a>\u001b[0m in \u001b[0;36m<module>\u001b[1;34m\u001b[0m\n\u001b[0;32m     56\u001b[0m     \u001b[0msearch10\u001b[0m\u001b[1;33m(\u001b[0m\u001b[0ma\u001b[0m\u001b[1;33m)\u001b[0m\u001b[1;33m\u001b[0m\u001b[1;33m\u001b[0m\u001b[0m\n\u001b[0;32m     57\u001b[0m \u001b[1;32melse\u001b[0m\u001b[1;33m:\u001b[0m\u001b[1;33m\u001b[0m\u001b[1;33m\u001b[0m\u001b[0m\n\u001b[1;32m---> 58\u001b[1;33m     \u001b[0msearch11\u001b[0m\u001b[1;33m(\u001b[0m\u001b[1;33m)\u001b[0m\u001b[1;33m\u001b[0m\u001b[1;33m\u001b[0m\u001b[0m\n\u001b[0m",
      "\u001b[1;32m<ipython-input-3-71ef836be31a>\u001b[0m in \u001b[0;36msearch11\u001b[1;34m()\u001b[0m\n\u001b[0;32m     47\u001b[0m             \u001b[1;34m\"Pledged Date\"\u001b[0m \u001b[1;33m:\u001b[0m\u001b[0mb\u001b[0m\u001b[1;33m[\u001b[0m\u001b[1;34m'Pledged Date'\u001b[0m\u001b[1;33m]\u001b[0m\u001b[1;33m,\u001b[0m\u001b[1;33m\u001b[0m\u001b[1;33m\u001b[0m\u001b[0m\n\u001b[0;32m     48\u001b[0m             \u001b[1;34m\"Weight\"\u001b[0m \u001b[1;33m:\u001b[0m \u001b[0mb\u001b[0m\u001b[1;33m[\u001b[0m\u001b[1;34m'Weight'\u001b[0m\u001b[1;33m]\u001b[0m\u001b[1;33m,\u001b[0m\u001b[1;33m\u001b[0m\u001b[1;33m\u001b[0m\u001b[0m\n\u001b[1;32m---> 49\u001b[1;33m             \u001b[1;34m\"Mobile Number\"\u001b[0m \u001b[1;33m:\u001b[0m \u001b[0mb\u001b[0m\u001b[1;33m[\u001b[0m\u001b[1;34m'Mobile Number'\u001b[0m\u001b[1;33m]\u001b[0m\u001b[1;33m\u001b[0m\u001b[1;33m\u001b[0m\u001b[0m\n\u001b[0m\u001b[0;32m     50\u001b[0m         }\n\u001b[0;32m     51\u001b[0m     )\n",
      "\u001b[1;31mKeyError\u001b[0m: 'Mobile Number'"
     ]
    }
   ],
   "source": [
    "Name = str(input(\"Enter name to filter : \"))\n",
    "\n",
    "a = mycol.find({\"Name\": Name})\n",
    "\n",
    "def search10(a):\n",
    "    for b in a:\n",
    "        print(\n",
    "            {\n",
    "            \"Number\" :b[\"Number\"],\n",
    "            \"Amount\" :b['Amount'],\n",
    "            \"Name\" :b['Name'],\n",
    "            \"S/O W/O D/O\" : b['S/O W/O D/O'],\n",
    "            \"Location\" : b['Location'],\n",
    "            \"Place\" :b['Place'],\n",
    "            \"Item\" : b['Item'],\n",
    "            \"Pledged Date\" :b['Pledged Date'],\n",
    "            \"Weight\" : b['Weight']\n",
    "        }\n",
    "    )\n",
    "    \n",
    "def search9(a):\n",
    "    for b in a:\n",
    "        print(\n",
    "            {\n",
    "            \"Number\" :b[\"Number\"],\n",
    "            \"Amount\" :b['Amount'],\n",
    "            \"Name\" :b['Name'],\n",
    "            \"S/O W/O D/O\" : b['S/O W/O D/O'],\n",
    "            \"Place\" :b['Place'],\n",
    "            \"Item\" : b['Item'],\n",
    "            \"Pledged Date\" :b['Pledged Date'],\n",
    "            \"Weight\" : b['Weight']\n",
    "        }\n",
    "    )\n",
    "        \n",
    "def search11() :\n",
    "    for b in a:\n",
    "        print(\n",
    "            {\n",
    "            \"Number\" :b[\"Number\"],\n",
    "            \"Amount\" :b['Amount'],\n",
    "            \"Name\" :b['Name'],\n",
    "            \"S/O W/O D/O\" : b['S/O W/O D/O'],\n",
    "            \"Location\" : b['Location'],\n",
    "            \"Place\" :b['Place'],\n",
    "            \"Item\" : b['Item'],\n",
    "            \"Pledged Date\" :b['Pledged Date'],\n",
    "            \"Weight\" : b['Weight'],\n",
    "            \"Mobile Number\" : b['Mobile Number']\n",
    "        }\n",
    "    )\n",
    "        \n",
    "if len(a[0]) == 9:\n",
    "    search9(a)\n",
    "elif len(a[0]) == 10:\n",
    "    search10(a)\n",
    "else:\n",
    "    search11()"
   ]
  },
  {
   "cell_type": "code",
   "execution_count": null,
   "metadata": {},
   "outputs": [],
   "source": []
  },
  {
   "cell_type": "code",
   "execution_count": null,
   "metadata": {},
   "outputs": [],
   "source": []
  },
  {
   "cell_type": "code",
   "execution_count": null,
   "metadata": {},
   "outputs": [],
   "source": []
  },
  {
   "cell_type": "code",
   "execution_count": null,
   "metadata": {},
   "outputs": [],
   "source": []
  }
 ],
 "metadata": {
  "kernelspec": {
   "display_name": "Python 3",
   "language": "python",
   "name": "python3"
  },
  "language_info": {
   "codemirror_mode": {
    "name": "ipython",
    "version": 3
   },
   "file_extension": ".py",
   "mimetype": "text/x-python",
   "name": "python",
   "nbconvert_exporter": "python",
   "pygments_lexer": "ipython3",
   "version": "3.7.6"
  }
 },
 "nbformat": 4,
 "nbformat_minor": 2
}
